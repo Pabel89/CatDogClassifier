{
 "cells": [
  {
   "cell_type": "code",
   "execution_count": null,
   "id": "c8733c9d-0db2-417c-8d1d-08a12bcafb38",
   "metadata": {},
   "outputs": [],
   "source": [
    " \"\"\"\n",
    "        @Author: Alexander Pabel\n",
    "\"\"\"\n",
    "from PIL import Image\n",
    "import torch\n",
    "from torchvision import transforms,models\n",
    "import torch.nn as nn\n",
    "import torch.nn.functional as F\n",
    "\n",
    "class CatDogClassifierCNN(nn.Module):\n",
    "    def __init__(self):\n",
    "        super(CatDogClassifierCNN, self).__init__()\n",
    "        self.vgg16 = models.vgg16(pretrained=True)\n",
    "        # Einfrieren der konvolutionalen Layer damit das vorherige Wissen ueber die Features erhalten bleibt\n",
    "        for param in self.vgg16.parameters():\n",
    "            param.requires_grad = False\n",
    "        #Ueberschreiben des Klassifierzungsmoduls des VGG16 Models um das Klassifizierungsmodul meines CNNs zu uebernehmen\n",
    "        self.vgg16.classifier = nn.Sequential(nn.Flatten(),\n",
    "            nn.Linear(25088, 128),\n",
    "            nn.ReLU(),\n",
    "            nn.Dropout(0.2),\n",
    "            nn.Linear(128, 2),)\n",
    "    def forward(self, x):\n",
    "        x = self.vgg16(x)\n",
    "        return x"
   ]
  },
  {
   "cell_type": "code",
   "execution_count": null,
   "id": "8139c0aa-484b-44c0-ba4b-d74a8ed64b92",
   "metadata": {
    "scrolled": true
   },
   "outputs": [],
   "source": [
    "# Load the model\n",
    "model = CatDogClassifierCNN()\n",
    "model.load_state_dict(torch.load('pretrained_model_backup/model_VGG16.pth',weights_only=True),strict=True)\n",
    "model.eval()"
   ]
  },
  {
   "cell_type": "code",
   "execution_count": null,
   "id": "70342ac7-b983-4a02-b49c-1302aebaa809",
   "metadata": {},
   "outputs": [],
   "source": [
    "transform = transforms.Compose([\n",
    "    transforms.Resize((128, 128)),\n",
    "    transforms.ToTensor(),\n",
    "    transforms.Normalize(mean=[0.485, 0.456, 0.406], std=[0.229, 0.224, 0.225])\n",
    "])\n",
    "\n",
    "# Bild laden\n",
    "image_path = './dataset/val/cats/cat_4353.jpg'\n",
    "image = Image.open(image_path).convert('RGB')\n",
    "\n",
    "# Anwenden der transformationen\n",
    "image = transform(image)\n",
    "\n",
    "# Stapel dimension angeben\n",
    "image = image.unsqueeze(0)  # Füge eine Stapeldimension hinzu\n",
    "\n",
    "device = torch.device('cuda' if torch.cuda.is_available() else 'cpu')\n",
    "model = model.to(device)\n",
    "image = image.to(device)\n",
    "\n",
    "# Modelvorhersagen bekommen\n",
    "with torch.no_grad():\n",
    "    outputs = model(image)\n",
    "    _, predicted = torch.max(outputs, 1)\n",
    "\n",
    "# Den Index der Vorhersage auf das Klassenlabel mappen\n",
    "idx_to_class = {0: 'cats', 1: 'dogs'}\n",
    "predicted_class = idx_to_class[predicted.item()]\n",
    "print(f'Predicted class: {predicted_class}')"
   ]
  }
 ],
 "metadata": {
  "kernelspec": {
   "display_name": "Python 3 (ipykernel)",
   "language": "python",
   "name": "python3"
  },
  "language_info": {
   "codemirror_mode": {
    "name": "ipython",
    "version": 3
   },
   "file_extension": ".py",
   "mimetype": "text/x-python",
   "name": "python",
   "nbconvert_exporter": "python",
   "pygments_lexer": "ipython3",
   "version": "3.11.7"
  }
 },
 "nbformat": 4,
 "nbformat_minor": 5
}
